{
 "cells": [
  {
   "cell_type": "code",
   "execution_count": 1,
   "metadata": {},
   "outputs": [],
   "source": [
    "import json\n",
    "import pandas as pd\n",
    "# import staticmap\n",
    "# from staticmap import StaticMap, CircleMarker\n",
    "from transformers import pipeline\n",
    "from translate import Translator\n",
    "from copy import copy"
   ]
  },
  {
   "cell_type": "code",
   "execution_count": 2,
   "metadata": {},
   "outputs": [
    {
     "name": "stdout",
     "output_type": "stream",
     "text": [
      "Divan Turkish Restaurant is duplicated\n",
      "Racó de la Vila is duplicated\n",
      "La Tagliatella is duplicated\n",
      "La Tagliatella is duplicated\n",
      "Buenas Migas is duplicated\n",
      "Divan Turkish Restaurant is duplicated\n",
      "Restaurant ASADOR DE ARANDA is duplicated\n",
      "Restaurant Embat is duplicated\n",
      "Restaurante Los Hermanos | Comte D'Urgell, Barcelona is duplicated\n",
      "Restaurant Tíbet is duplicated\n",
      "Five Guys is duplicated\n",
      "Restaurante La Tagliatella | Diagonal Mar, Barcelona is duplicated\n",
      "Five Guys is duplicated\n",
      "Ten's Tapas Restaurant Barcelona is duplicated\n",
      "Ramen House is duplicated\n",
      "Restaurante La Tagliatella | Diagonal Mar, Barcelona is duplicated\n",
      "Àbac is duplicated\n",
      "VICIO is duplicated\n",
      "Bun Bo Barcelona (Gótico) is duplicated\n",
      "BAR RESTAURANT SET POINT is duplicated\n",
      "Bun Bo Barcelona (Gótico) is duplicated\n",
      "Restaurante Jardin is duplicated\n",
      "Restaurante Vic Braseria en Barcelona, Brasas Catalanas, Especialistas en Carnes y Verduras-Sin Gluten- Barcelona is duplicated\n",
      "Restaurant Arcasa Cosmocaixa is duplicated\n",
      "Restaurant Agua is duplicated\n",
      "VICIO is duplicated\n",
      "Swad-The Indian Restaurant is duplicated\n",
      "Can Kenji is duplicated\n",
      "La Yaya Amelia Restaurant is duplicated\n",
      "Aitor Restaurant is duplicated\n",
      "Can Martí Restaurant is duplicated\n",
      "Grasshopper Ramen Bar is duplicated\n",
      "Restaurant Mirabé is duplicated\n",
      "Five Guys is duplicated\n",
      "Five Guys is duplicated\n",
      "Aula Restaurant - CETT is duplicated\n",
      "Els 4Gats is duplicated\n"
     ]
    }
   ],
   "source": [
    "f = open(\"./Data/train_reviews.json\")\n",
    "train_data=json.load(f)\n",
    "f.close()\n",
    "f = open(\"./Data/test_reviews.json\")\n",
    "test_data = json.load(f)\n",
    "f.close()\n",
    "\n",
    "'''\n",
    "Remove duplicates in train\n",
    "'''\n",
    "json_data = []\n",
    "seen_restaurants = []\n",
    "for i in range(len(train_data)):\n",
    "    if train_data[i]['title'] not in seen_restaurants:\n",
    "        json_data += [copy(train_data[i])]\n",
    "        seen_restaurants.append(train_data[i]['title'])\n",
    "    else:\n",
    "        print(train_data[i]['title'], \"is duplicated\")\n",
    "\n",
    "'''\n",
    "Add test restaurants reviews to training restaurants if their name is the same\n",
    "'''\n",
    "restaurants_in_training = {}\n",
    "for i,restaurant in enumerate(json_data):\n",
    "    restaurants_in_training[restaurant['title']] = i\n",
    "\n",
    "for restaurant in test_data:\n",
    "    if restaurant['title'] in restaurants_in_training:\n",
    "        j = restaurants_in_training[restaurant['title']]\n",
    "        for r in restaurant['reviews_data']:\n",
    "            json_data[j]['reviews_data'].append(copy(r))\n",
    "    else:\n",
    "        json_data.append(copy(restaurant))"
   ]
  },
  {
   "cell_type": "code",
   "execution_count": 3,
   "metadata": {},
   "outputs": [
    {
     "data": {
      "text/plain": [
       "{'ChIJTXb6QRdawokRPZZKPYmvWcU': 1,\n",
       " 'ChIJefD4APiipBIRgyI_ff4Qhxc': 1,\n",
       " 'ChIJteBarX6ipBIRRYygisKbcPs': 1,\n",
       " 'ChIJxXT2zueipBIRhT17oqbcnx8': 1,\n",
       " 'ChIJNa5r9j1awokR7V0YcDbff0o': 1,\n",
       " 'ChIJxZljK8mjpBIRAUQgty4vUL0': 1,\n",
       " 'ChIJhRmZ7f2ipBIRs5_ZKx_mJV0': 1,\n",
       " 'ChIJa-LjmfaipBIRfUaQ8IviPnI': 1,\n",
       " 'ChIJQ8ly2viipBIRZANMAFMePb8': 1,\n",
       " 'ChIJp4MZsfiipBIRM7YJu0xCScQ': 1,\n",
       " 'ChIJeyHHXPmipBIRi4w1dmo0Ahw': 1,\n",
       " 'ChIJbUeDbIyipBIRhf2n9OIXpig': 1,\n",
       " 'ChIJo9a8zYWipBIRbExm8o2jDd8': 1,\n",
       " 'ChIJ5UPwoWeipBIRaLUTymgdU2s': 1,\n",
       " 'ChIJ4c9Z4mGipBIREUosG7_sVXg': 1,\n",
       " 'ChIJ08vR2JOipBIRtSoV82KdIjA': 1,\n",
       " 'ChIJyzttxfeipBIRGkElR5G73mQ': 1,\n",
       " 'ChIJL2iZhoqipBIR8yrz7bAzwqg': 1,\n",
       " 'ChIJvfD7cXuipBIRc-6k05FxgWI': 1,\n",
       " 'ChIJd-kDghajpBIR526jrtyGZZA': 1,\n",
       " 'ChIJ6zCmfe2ipBIRgNs_xHC75Ec': 1,\n",
       " 'ChIJxUNniGWYpBIRRLODLxXKAhI': 1,\n",
       " 'ChIJ90QMabGipBIRo2cb3n68X_A': 1,\n",
       " 'ChIJDcIkmQ-YpBIRoLbpQjXxAiI': 1,\n",
       " 'ChIJOWysT6-ipBIRB-PBz2M_lQQ': 1,\n",
       " 'ChIJaVNlTTa9pBIRTj0Qkh-ckEc': 1,\n",
       " 'ChIJ6_dLhqujpBIRMs68zrFMqSc': 1,\n",
       " 'ChIJw8oShmyjpBIRTIkEztxmO2Y': 1,\n",
       " 'ChIJnxRQBKyjpBIRKFeCru2-P4I': 1,\n",
       " 'ChIJ2xlMdCKjpBIR33Co6YN0V4I': 1,\n",
       " 'ChIJjZxWjQ-YpBIR_xbBOD9lZ1k': 1,\n",
       " 'ChIJ-_dtdeuipBIRJosW1OKbZl4': 1,\n",
       " 'ChIJJWY_JHCYpBIRIRKPz1kJ9EI': 1,\n",
       " 'ChIJ03TBgvaipBIRAokqDD_fOgU': 1,\n",
       " 'ChIJzyCpuvOipBIR81q13eFJsyw': 1,\n",
       " 'ChIJRxeqK9WipBIR19LdBFuLBjw': 1,\n",
       " 'ChIJJ3ISYYSipBIRZbmuNoUQGao': 1,\n",
       " 'ChIJL_kQlAijpBIRCYCEoSNB1cA': 1,\n",
       " 'ChIJN0yDs42ipBIR5T7Lyi9E29k': 1,\n",
       " 'ChIJrYOJGcOipBIRylhDvEVSSik': 1,\n",
       " 'ChIJl0ZZHxujpBIRN2y9xZrUuRI': 1,\n",
       " 'ChIJvaXrXPqipBIRFkfZO5V1RjI': 1,\n",
       " 'ChIJA7Vlp5iZpBIRo8rMYZedIDo': 1,\n",
       " 'ChIJRfHqz1aYpBIRqVAFnckaCt4': 1,\n",
       " 'ChIJnwSFDWKYpBIR_r0v4CZKVTE': 1,\n",
       " 'ChIJQ5TBMQyYpBIRS_PFjDP8LCM': 1,\n",
       " 'ChIJmVwTco6ipBIRadmxm-Zwick': 1,\n",
       " 'ChIJyUzsdZuipBIR7C8fRKI1-hg': 1,\n",
       " 'ChIJ69NAjGSipBIRdoXVW4t6F24': 1,\n",
       " 'ChIJ6QPv5AejpBIRS7LcJecO_UQ': 1,\n",
       " 'ChIJeU2xa4dZwokRdgTy1h9-7YA': 1,\n",
       " 'ChIJ0Ulj4g6jpBIRDNNmVg5Hr2E': 1,\n",
       " 'ChIJUelNJlaipBIRwdR_rTZgsDI': 1,\n",
       " 'ChIJla091gKZpBIRKfT7KEr1a9M': 1,\n",
       " 'ChIJMxp5H_6ipBIR-XbZESY3q3c': 1,\n",
       " 'ChIJecv7K4yipBIRs8mIO7ud1vY': 1,\n",
       " 'ChIJrcC3iq2ZpBIRyVqXiw2N8XU': 1,\n",
       " 'ChIJP-OjThWjpBIRPPDMC5BbwVM': 1,\n",
       " 'ChIJn4KYu2KipBIRjPp5PooOO1U': 1,\n",
       " 'ChIJ6XNwB5OipBIRt4y6O-OMYlE': 1,\n",
       " 'ChIJU2yMmZmipBIRincP1doW8ak': 1,\n",
       " 'ChIJP3ifN5CipBIRlcRYEvXR48Y': 1,\n",
       " 'ChIJGSe0PfeipBIR-sKI4VVSrSI': 1,\n",
       " 'ChIJ5c4QTsGipBIRaakXWVSPrSY': 1,\n",
       " 'ChIJR-1GYP6ipBIRwZGGRxgq1e0': 1,\n",
       " 'ChIJ9UOKRHaYpBIRCFeXbtKjSU0': 1,\n",
       " 'ChIJfYU2UqCipBIR8nMtzXmXsPI': 1,\n",
       " 'ChIJyb_RqnujpBIRY35PX6Cs4pY': 1,\n",
       " 'ChIJN-3jDf6ipBIREgvbwVTBeAc': 1,\n",
       " 'ChIJ06Abq5OipBIRAAbiw3cStt8': 1,\n",
       " 'ChIJzemk9FyYpBIRpB1A5sQYspU': 1,\n",
       " 'ChIJk__0muqipBIRacIQTkTRgGU': 1,\n",
       " 'ChIJQ10fw2qjpBIRQ-EWd74vZgk': 1,\n",
       " 'ChIJRwc0tfSYpBIROH5HbqjJjM8': 1,\n",
       " 'ChIJO-lGHutXQQ0RRgCb8f9aPmM': 1,\n",
       " 'ChIJeWHXl--jpBIRbk4k46f6vLk': 1,\n",
       " 'ChIJdWk_Q_GYpBIRM_uLVHKHuZA': 1,\n",
       " 'ChIJ4ecss_CipBIRzAR_ag45hM8': 1,\n",
       " 'ChIJwaqxIuyipBIR_X_o_CfX_VE': 1,\n",
       " 'ChIJi_EUXIaYpBIRIfaYbRLblfs': 1,\n",
       " 'ChIJMfzM72WYpBIRXeSAn27lIhk': 1,\n",
       " 'ChIJ5dT1WhujpBIROG-CSYO-xnA': 1,\n",
       " 'ChIJBTfBbwCjpBIRWclY6-1LVTg': 1,\n",
       " 'ChIJKSdKM7-YpBIRN8gyNni2_Pg': 1,\n",
       " 'ChIJ005hwAeTUA0Rg-ip_WM2PtQ': 1,\n",
       " 'ChIJ6zCmfe2ipBIRHC8FSUmHIEg': 1,\n",
       " 'ChIJqdpHxP6ipBIRbGTndrM3uLA': 1,\n",
       " 'ChIJE9bvg2SipBIR4Km_kuEEaWk': 1,\n",
       " 'ChIJ0ZSONVejpBIRTdN-2LSRX08': 1,\n",
       " 'ChIJOz6kWZGipBIR-dPpNFs_4LY': 1,\n",
       " 'ChIJuwsi6-2ipBIRi8zh5nFfS_Q': 1,\n",
       " 'ChIJp87FgRW9pBIR5FDw6c6QEDw': 1,\n",
       " 'ChIJOfXakY2ipBIRjXgtCVc1Rn8': 1,\n",
       " 'ChIJlcNl9jyjpBIRU02pgRHAJNk': 1,\n",
       " 'ChIJ4ayjc2eipBIRlRuQyc20ZV0': 1,\n",
       " 'ChIJw9YxdpuipBIRQiM0bGypfqI': 1,\n",
       " 'ChIJy5lJ9MOipBIRvEnxsX82gj4': 1,\n",
       " 'ChIJf8nit1-ipBIRzvX6TvflY5E': 1,\n",
       " 'ChIJ2yF9jhuYpBIRnbipQc4j7uY': 1,\n",
       " 'ChIJN2nJ8r6YpBIRNPevFDuvV44': 1,\n",
       " 'ChIJJZSYOVu7pBIRAWEysWkT46E': 1,\n",
       " 'ChIJFzC7phyjpBIRWB7OXQHJoHY': 1,\n",
       " 'ChIJXReUNOGipBIRdz0OlZXn7yc': 1,\n",
       " 'ChIJU4u6ZoSipBIRweDTPlRgN4A': 1,\n",
       " 'ChIJr10-LFmipBIR5ymKpjams6o': 1,\n",
       " 'ChIJn-a4VzeYpBIRg3LR7xFlZfQ': 1,\n",
       " 'ChIJ0X_WpuyipBIR2tX-uTdO4_4': 1,\n",
       " 'ChIJ-fVkbVaipBIRygvueZ4Pp-M': 1,\n",
       " 'ChIJKyMr3q-ipBIR_fKaRHCYkMg': 1,\n",
       " 'ChIJVVUVNOq8pBIRlX0hP5fmPU4': 1,\n",
       " 'ChIJL7osLPmipBIRNj1C9Ji3NTw': 1,\n",
       " 'ChIJN4zPLvSipBIRnANNEEwB15Q': 1,\n",
       " 'ChIJ627xK2WipBIR6zAxuUmOD_0': 1,\n",
       " 'ChIJcfHZgVm8pBIRBCeWpkykufg': 1,\n",
       " 'ChIJ_YNS35CipBIRlVeEwBuv1mE': 1,\n",
       " 'ChIJiexhIFaipBIROkY5Gw0Jxzw': 1,\n",
       " 'ChIJ227r7P-ipBIR9BvauGT0_Ak': 1,\n",
       " 'ChIJI26GMnaYpBIRmQ2areI5AJw': 1,\n",
       " 'ChIJ55A0-Z6ipBIREu64nZlr05k': 1,\n",
       " 'ChIJOcx713aZpBIRq9cTlWZVn1A': 1,\n",
       " 'ChIJPVTlluyipBIRa63D-AvISig': 1,\n",
       " 'ChIJJeFDZS6YpBIRpS3vMg9Vr2A': 1,\n",
       " 'ChIJwe1XAfKipBIRKVz8iQ_o65w': 1,\n",
       " 'ChIJhT-Iaf6ipBIRh8UGpqX21Jo': 1,\n",
       " 'ChIJX43bwemjpBIRCVJJP9StWE8': 1,\n",
       " 'ChIJm_Zqah_xQQ0RZua_O3edAiQ': 1,\n",
       " 'ChIJkbkIaY6ipBIR1Qd0pGMGeug': 1,\n",
       " 'ChIJv2TwNSujpBIR9Z1x1TijIK8': 1,\n",
       " 'ChIJPeQ5o--ipBIRVoC8MNIeuBs': 1,\n",
       " 'ChIJf4l7rVeipBIRd88Z241wfs4': 1,\n",
       " 'ChIJBUVczcGYpBIRrXQ2JVyDnUs': 1,\n",
       " 'ChIJaS6zwH-ipBIRz1gh2_q91sc': 1,\n",
       " 'ChIJ3-jQomqjpBIRSFLY1lYrG5Y': 1,\n",
       " 'ChIJzdpR9v6ipBIRYJcC0NR6sLE': 1,\n",
       " 'ChIJr7UMNvyipBIRjwVpgkiuzvk': 1,\n",
       " 'ChIJX_Q00PiipBIRh1yciXxWdzk': 1,\n",
       " 'ChIJf-Sjp-uipBIRS3kVFafnBG8': 1,\n",
       " 'ChIJ6eLgUvmipBIRXtm29Gzx9s8': 1,\n",
       " 'ChIJxbseWr2YpBIRGzkOyekSffI': 1,\n",
       " 'ChIJI7wdGZOipBIRh_tZlvgzJaA': 1,\n",
       " 'ChIJhUtnFEajpBIR2K633TDXfRU': 1,\n",
       " 'ChIJEyRlahqYpBIR-fgQGRnIbt0': 1,\n",
       " 'ChIJS5NfUnmipBIRGBIvZ9cGHLU': 1,\n",
       " 'ChIJ2WyB1puipBIRCruFJK-LPlM': 1,\n",
       " 'ChIJ10wuF72ipBIRh_KztS3VaB8': 1,\n",
       " 'ChIJN34PrLOipBIRuRrbyRBDU_A': 1,\n",
       " 'ChIJnR4cBu-ipBIRjUrf2hJAqeQ': 1,\n",
       " 'ChIJMyXxamyYpBIR545nz4aSrbc': 1,\n",
       " 'ChIJTanMhJyipBIRkuDC4Sx_Tik': 1,\n",
       " 'ChIJn8y8CvaipBIRN8pcIOZvzqo': 1,\n",
       " 'ChIJXZhtxZaipBIRpguVxDwRohg': 1,\n",
       " 'ChIJC9rU0le9pBIR1YuflYqdLpU': 1,\n",
       " 'ChIJU3ByGVm9pBIRiGeFDUR6jTg': 1,\n",
       " 'ChIJm1lClpCipBIRGBC-1SDJ85k': 1,\n",
       " 'ChIJCeXlq92ipBIRpdK__54n0FI': 1,\n",
       " 'ChIJzWHePVGjpBIRWRKVJOpltgQ': 1,\n",
       " 'ChIJfe3FCFaipBIRPzt-nB7gc14': 1,\n",
       " 'ChIJq4cO07OipBIRS5h6cBIPRng': 1,\n",
       " 'ChIJyUFE-_mipBIRCrChwYz8lx0': 1,\n",
       " 'ChIJTSzGu4WipBIRkznre9Zwis0': 1,\n",
       " 'ChIJV5csEXaYpBIROQ33njEmjWQ': 1,\n",
       " 'ChIJjX8Y_b6ipBIR-BkrX5GG5G0': 1,\n",
       " 'ChIJI96t3faipBIRONCoAyrVBLY': 1,\n",
       " 'ChIJOx8QPKqjpBIR1u8Z5hq1qcg': 1,\n",
       " 'ChIJL0_Nt66jpBIRt55zTJ7CpZk': 1,\n",
       " 'ChIJ2Wx2uLmjpBIRDkUn4C80yaQ': 1,\n",
       " 'ChIJdazzUbCxUQ0Rw9XhbhKiMKM': 1,\n",
       " 'ChIJoXMT6ylawokR3aG50mL9_zo': 1,\n",
       " 'ChIJRSrz8FeipBIR9SHH2fEFv4U': 1,\n",
       " 'ChIJg87jFqCZpBIRg3UZBH_sapM': 1,\n",
       " 'ChIJEX8i0BqYpBIRUpgv70_z_yg': 1,\n",
       " 'ChIJn2RJ2XyipBIRyWyAwe3FBg0': 1,\n",
       " 'ChIJfyTsR_-ipBIRmA7zhFU4ZDQ': 1,\n",
       " 'ChIJJQCvXMOipBIRoK4Av85WDV8': 1,\n",
       " 'ChIJv6nmFvqipBIRhK65nVKPSlw': 1,\n",
       " 'ChIJ3XUCr0K5Z0ARbKq1CqAKgJQ': 1,\n",
       " 'ChIJPfDI3bqipBIRjgWxclrllwE': 1,\n",
       " 'ChIJxypsavOipBIRxmtwKh6UYaw': 1,\n",
       " 'ChIJBbPkSnmipBIRGZkdtGI7hiE': 1,\n",
       " 'ChIJKb2W_FiipBIR3UdM8obKvkk': 1,\n",
       " 'ChIJiZq-5PyipBIRfK3u0YJJQHE': 1,\n",
       " 'ChIJGQi2tP6ipBIR3iQXOuNAolQ': 1,\n",
       " 'ChIJb7gUzfmipBIRIoiMb8GScM0': 1,\n",
       " 'ChIJ930OtWSYpBIRwmgfp4-zcIA': 1,\n",
       " 'ChIJWUPHwCOjpBIRbRjlGR2Xa6M': 1,\n",
       " 'ChIJSWHQQGWipBIRY1dsnTzy2nI': 1,\n",
       " 'ChIJj2n5iv6ipBIRcnNc4SQ3hSU': 1,\n",
       " 'ChIJu7sq8ZKipBIRbP2Vki_kScw': 1,\n",
       " 'ChIJNc7xxZ6ipBIRnrVCrmxgS4g': 1,\n",
       " 'ChIJHfXWRSv9oxIRgjav2fi_2Lk': 1,\n",
       " 'ChIJgYRzxgijpBIRv2cepysaa6Y': 1,\n",
       " 'ChIJh01b3aujpBIRAxWL8QFNnjE': 1,\n",
       " 'ChIJU9BEzlCjpBIRruyM3-bXThk': 1,\n",
       " 'ChIJFyeCRMOipBIR5-Pzg0mWoRs': 1,\n",
       " 'ChIJ_3GGzg6jpBIRbf92pkxsCr0': 1,\n",
       " 'ChIJmQ6ZKtuipBIRS7-_Jp6l7Zo': 1,\n",
       " 'ChIJl8AvStqipBIRZrurM3G8DS0': 1,\n",
       " 'ChIJgXhRA5iipBIRlYIbAhFwH-c': 1,\n",
       " 'ChIJPxzuKV-ipBIRmZegbErtEiw': 1,\n",
       " 'ChIJX0su9FiipBIRrb80hCFA2WA': 1,\n",
       " 'ChIJt9ceoEOjpBIRnWy7dYau7e0': 1,\n",
       " 'ChIJH1MVbvSipBIRl_BB017gBB4': 1,\n",
       " 'ChIJl9XATxujpBIR_DUxGm51nDA': 1,\n",
       " 'ChIJS1zxcFyipBIRXR5s-WR6BJc': 1,\n",
       " 'ChIJ8TMSh46ipBIRVmVx_17vwLE': 1,\n",
       " 'ChIJLasTyh6jpBIR2tzirBbceuY': 1,\n",
       " 'ChIJN7llwqKYpBIRt_gV3-hsfqk': 1,\n",
       " 'ChIJoW3KxVeipBIRWyvQI76z4cA': 1,\n",
       " 'ChIJQyU0L2iipBIRBMPf4ZwbqiE': 1,\n",
       " 'ChIJawsMD42ipBIRO1xXCzZZkFQ': 1,\n",
       " 'ChIJoQ9C8kCjpBIRZcWfN97tZdI': 1,\n",
       " 'ChIJM5FFbvKipBIRdWugDh577Ao': 1,\n",
       " 'ChIJWXpb8PeipBIR9qHIBx1PV4U': 1,\n",
       " 'ChIJz3xmwv2ipBIREX5hepxtl7Q': 1,\n",
       " 'ChIJwbmYxya9pBIRckNYrShXnPw': 1,\n",
       " 'ChIJw87nG_6ipBIR9UqpWXx-YJs': 1,\n",
       " 'ChIJYY-2yo6jpBIRDfKAX2glqbU': 1,\n",
       " 'ChIJa2rxw_uipBIRqHLwI_tNaKk': 1,\n",
       " 'ChIJP7ahAOiipBIRASawEZZOOeo': 1,\n",
       " 'ChIJC1mTxOmipBIRVodYqFhQmM8': 1,\n",
       " 'ChIJbZRE0QijpBIRhTBMlgGI3PY': 1,\n",
       " 'ChIJudqNP-aipBIRJL-xaciw6xw': 1,\n",
       " 'ChIJi9-FkaGipBIRDG7m_fC-R4g': 1,\n",
       " 'ChIJk4-Fr9CipBIR3P4tAP689xw': 1,\n",
       " 'ChIJFbGtt1mipBIRuVooD90SoxE': 1,\n",
       " 'ChIJlWT-OJCipBIRU83j8sREy3o': 1,\n",
       " 'ChIJu7KsR4ujpBIRvIJ8hBwCTUc': 1,\n",
       " 'ChIJJVDwhMKZpBIR3amW-dBWzkg': 1,\n",
       " 'ChIJR6wZFXmipBIRioOkZKPrly4': 1,\n",
       " 'ChIJY6I79l6ipBIR7uHYEGo4YmQ': 1,\n",
       " 'ChIJI4YtUjFawokRirhCTkv48p4': 1,\n",
       " 'ChIJl7hQSJSipBIRk7b0Z4WCgwE': 1,\n",
       " 'ChIJpanTZ-2ipBIRXWvGohSLN_4': 1,\n",
       " 'ChIJJ-f2N_GipBIRsCpL-ijBmUA': 1,\n",
       " 'ChIJoU5LpmKipBIR89cz26qhHHA': 1,\n",
       " 'ChIJJ-G5eR69pBIRn3s00F3nyG8': 1,\n",
       " 'ChIJVeh6ik6jpBIRuZGKMN-hf5c': 1,\n",
       " 'ChIJeV2ZLqOZpBIRJI4WzjEyGek': 1,\n",
       " 'ChIJA1wF9kOjpBIRsbmvXmHuq50': 1,\n",
       " 'ChIJK6tDZYqipBIRrxcH_-0JpqE': 1,\n",
       " 'ChIJiQfqu_6ipBIRMIL1GKXlOmI': 1,\n",
       " 'ChIJqQI7SqijpBIRcCr6G6MHPoM': 1,\n",
       " 'ChIJzeQs2JqipBIREQ4pkufEXzM': 1,\n",
       " 'ChIJtZ7oe7yjpBIREwpjSUl2RU8': 1,\n",
       " 'ChIJsfd9xN-ipBIRcsHHXwZMFBA': 1,\n",
       " 'ChIJgUwpv5iipBIRd0JfuUV30HY': 1,\n",
       " 'ChIJXVTwYqi-Z0ARrKEFWbFKMLQ': 1,\n",
       " 'ChIJr05z0uyipBIR2P_c0PsSW2g': 1,\n",
       " 'ChIJWe4si_aipBIRgzhJFj5tVq0': 1,\n",
       " 'ChIJb-E-RfmipBIRmDyFS5ND__8': 1,\n",
       " 'ChIJbUMbTYOipBIRjsNStvsVNS0': 1,\n",
       " 'ChIJ5zC4pYyYpBIRvrtrSI9Kgc4': 1,\n",
       " 'ChIJT0u86VeipBIRRDlB5URkGfQ': 1,\n",
       " 'ChIJAweFnpSipBIRBbwmnDuS5mA': 1,\n",
       " 'ChIJjXmkmfOipBIRMSUAplH7kU4': 1,\n",
       " 'ChIJH8gKMViipBIR-Naz1zh9Hbw': 1,\n",
       " 'ChIJI-HKOyejpBIRLkPOl415Wyg': 1,\n",
       " 'ChIJ3SBA93C9pBIRNqvrECO1SDY': 1,\n",
       " 'ChIJefmo1-2ipBIRBr5cUyZ1Qt0': 1,\n",
       " 'ChIJZ9PCF5yipBIR4UARKasX5kE': 1}"
      ]
     },
     "execution_count": 3,
     "metadata": {},
     "output_type": "execute_result"
    }
   ],
   "source": [
    "dict_names = {}\n",
    "dict_place_id = {}\n",
    "for restaurant in json_data:\n",
    "    if restaurant['title'] not in dict_names:\n",
    "        dict_names[restaurant['title']] = 1\n",
    "    else:\n",
    "        dict_names[restaurant['title']] += 1\n",
    "    \n",
    "    if restaurant['place_id'] not in dict_place_id:\n",
    "        dict_place_id[restaurant['place_id']] = 1\n",
    "    else:\n",
    "        dict_place_id[restaurant['place_id']] += 1\n",
    "            \n",
    "{k: v for k, v in sorted(dict_place_id.items(), key=lambda item: -item[1])}"
   ]
  },
  {
   "cell_type": "code",
   "execution_count": 4,
   "metadata": {},
   "outputs": [
    {
     "name": "stdout",
     "output_type": "stream",
     "text": [
      "300\n",
      "150\n"
     ]
    }
   ],
   "source": [
    "\n",
    "name_to_duplicates = {}\n",
    "for restaurant in train_data:\n",
    "    if restaurant['title'] not in name_to_duplicates:\n",
    "        name_to_duplicates[restaurant['title']] = [restaurant]\n",
    "    else:\n",
    "        name_to_duplicates[restaurant['title']] += [restaurant]\n",
    "\n",
    "print(len(name_to_duplicates['Five Guys'][0]['reviews_data']))\n",
    "print(len(name_to_duplicates['Five Guys'][1]['reviews_data']))"
   ]
  },
  {
   "cell_type": "markdown",
   "metadata": {},
   "source": [
    "## Keep only restaurants in Barcelona"
   ]
  },
  {
   "cell_type": "code",
   "execution_count": 5,
   "metadata": {},
   "outputs": [],
   "source": [
    "data = [] # GUARDAR EL INDICE Y QUITARLO DE JSON\n",
    "points = []\n",
    "for r in json_data:\n",
    "    place_id = r[\"place_id\"]\n",
    "    latitude = r[\"gps_coordinates\"][\"latitude\"]\n",
    "    longitude = r[\"gps_coordinates\"][\"longitude\"]\n",
    "    data.append((place_id, latitude, longitude))\n",
    "    points.append((latitude, longitude))\n",
    "    \n",
    "df = pd.DataFrame(data, columns=['place_id', 'latitude', 'longitude'])"
   ]
  },
  {
   "cell_type": "code",
   "execution_count": 6,
   "metadata": {},
   "outputs": [
    {
     "data": {
      "text/plain": [
       "Text(0.5, 0, 'longitude')"
      ]
     },
     "execution_count": 6,
     "metadata": {},
     "output_type": "execute_result"
    },
    {
     "data": {
      "image/png": "[encoded data removed]",
      "text/plain": [
       "<Figure size 432x288 with 1 Axes>"
      ]
     },
     "metadata": {
      "needs_background": "light"
     },
     "output_type": "display_data"
    }
   ],
   "source": [
    "import matplotlib.pyplot as plt\n",
    "x_val = [x[0] for x in points]\n",
    "y_val = [x[1] for x in points]\n",
    "plt.scatter(y_val, x_val)\n",
    "plt.ylabel('latitude')\n",
    "plt.xlabel('longitude')"
   ]
  },
  {
   "cell_type": "code",
   "execution_count": 7,
   "metadata": {},
   "outputs": [
    {
     "data": {
      "text/plain": [
       "<AxesSubplot:>"
      ]
     },
     "execution_count": 7,
     "metadata": {},
     "output_type": "execute_result"
    },
    {
     "data": {
      "image/png": "[encoded data removed]",
      "text/plain": [
       "<Figure size 432x288 with 1 Axes>"
      ]
     },
     "metadata": {
      "needs_background": "light"
     },
     "output_type": "display_data"
    }
   ],
   "source": [
    "df.boxplot(return_type='axes')"
   ]
  },
  {
   "cell_type": "code",
   "execution_count": 8,
   "metadata": {},
   "outputs": [],
   "source": [
    "Q1 = df['latitude'].quantile(0.25)\n",
    "Q3 = df['latitude'].quantile(0.75)\n",
    "IQR = Q3 - Q1    #IQR is interquartile range. \n",
    "\n",
    "filter = (df['latitude'] >= Q1 - 1.5 * IQR) & (df['latitude'] <= Q3 + 1.5 *IQR)\n",
    "df = df.loc[filter]"
   ]
  },
  {
   "cell_type": "code",
   "execution_count": 9,
   "metadata": {},
   "outputs": [],
   "source": [
    "place_id_bcn = list(df.place_id.unique())"
   ]
  },
  {
   "cell_type": "code",
   "execution_count": 10,
   "metadata": {},
   "outputs": [],
   "source": [
    "json_bcn = [x for x in json_data if x[\"place_id\"] in place_id_bcn]"
   ]
  },
  {
   "cell_type": "code",
   "execution_count": 11,
   "metadata": {},
   "outputs": [
    {
     "data": {
      "text/plain": [
       "{'user': {'name': 'OlekoBoom',\n",
       "  'link': 'https://www.google.com/maps/contrib/102348760718259857950?hl=en-US&sa=X&ved=2ahUKEwj55L_A5P7zAhXL3J4KHX3cA9oQvvQBegQIARAu',\n",
       "  'thumbnail': 'https://lh3.googleusercontent.com/a-/AOh14GhJG6v4xjoxSLpfQkMpWigWQe-fVrWDLVpk4PFw6Q=s40-c-c0x00000000-cc-rp-mo-ba4-br100',\n",
       "  'local_guide': True,\n",
       "  'reviews': 140,\n",
       "  'photos': 136},\n",
       " 'rating': 5.0,\n",
       " 'date': '3 months ago',\n",
       " 'snippet': \"This is a great vegan kebab. For a pretty cheap price you get to compose your own falafel, and trust me, at the end you'll be full. Vegetables are fresh and tasty. Fries are crispy and also very tasty. Sauces also - top flavor. I can't complain on a single thing. Total recommendation :)\",\n",
       " 'likes': 2,\n",
       " 'images': ['https://lh5.googleusercontent.com/p/AF1QipNVFndHUdKLRXG7yZncjnl02M8XSe2FIc0arOdf=w100-h100-p-n-k-no',\n",
       "  'https://lh5.googleusercontent.com/p/AF1QipOBPxTqzCZclXpwadW_Q3hG0q2cIlE8aDo738Lh=w100-h100-p-n-k-no',\n",
       "  'https://lh5.googleusercontent.com/p/AF1QipOjDLlfdXMsaqtIA35pvY6u2zb5fRzOz0GYoA8o=w100-h100-p-n-k-no',\n",
       "  'https://lh5.googleusercontent.com/p/AF1QipMVnRA6h5nwOVnEO5Tes9aHjXhOlCpugpERS3jg=w100-h100-p-n-k-no']}"
      ]
     },
     "execution_count": 11,
     "metadata": {},
     "output_type": "execute_result"
    }
   ],
   "source": [
    "json_bcn[0]['reviews_data'][0]"
   ]
  },
  {
   "cell_type": "markdown",
   "metadata": {},
   "source": [
    "## Remove backslash from username"
   ]
  },
  {
   "cell_type": "code",
   "execution_count": 12,
   "metadata": {},
   "outputs": [],
   "source": [
    "for i in range(len(json_bcn)):\n",
    "    for j in range(len(json_bcn[i][\"reviews_data\"])):\n",
    "        json_bcn[i]['reviews_data'][j][\"user\"][\"name\"] = json_bcn[i]['reviews_data'][j][\"user\"][\"name\"].replace(\"/\", \"\")"
   ]
  },
  {
   "cell_type": "markdown",
   "metadata": {},
   "source": [
    "## Price to int"
   ]
  },
  {
   "cell_type": "code",
   "execution_count": 13,
   "metadata": {},
   "outputs": [],
   "source": [
    "for i in range(len(json_bcn)):\n",
    "    try:\n",
    "        json_bcn[i][\"price\"] = min(4, len(json_bcn[i][\"price\"]))\n",
    "    except:\n",
    "        json_bcn[i][\"price\"] = 2"
   ]
  },
  {
   "cell_type": "code",
   "execution_count": 14,
   "metadata": {},
   "outputs": [],
   "source": [
    "#sentiment_analysis('I hate you')[0]"
   ]
  },
  {
   "cell_type": "markdown",
   "metadata": {},
   "source": [
    "## Modifiying missing ratings with sentiment analysis"
   ]
  },
  {
   "cell_type": "code",
   "execution_count": 15,
   "metadata": {},
   "outputs": [
    {
     "name": "stderr",
     "output_type": "stream",
     "text": [
      "No model was supplied, defaulted to distilbert-base-uncased-finetuned-sst-2-english (https://huggingface.co/distilbert-base-uncased-finetuned-sst-2-english)\n",
      "  8%|▊         | 18/239 [00:16<03:14,  1.14it/s]Token indices sequence length is longer than the specified maximum sequence length for this model (520 > 512). Running this sequence through the model will result in indexing errors\n",
      "100%|██████████| 239/239 [00:28<00:00,  8.49it/s]\n"
     ]
    }
   ],
   "source": [
    "from tqdm import tqdm\n",
    "\n",
    "sentiment_analysis = pipeline(\"sentiment-analysis\") # This might take a while\n",
    "for i in tqdm(range(len(json_bcn))):\n",
    "    # If the user does not have a rating we create it based on the sentimen analysis of the snippet\n",
    "    for j in range(len(json_bcn[i]['reviews_data'])):\n",
    "        try:\n",
    "            rating = json_bcn[i]['reviews_data'][j]['rating']\n",
    "        except:\n",
    "            translator = Translator(to_lang=\"en\")\n",
    "            translation = translator.translate(json_bcn[i]['reviews_data'][j]['snippet'])\n",
    "            try:\n",
    "                sa = sentiment_analysis(translation)[0]\n",
    "            except:\n",
    "                translation = translation[:1500]\n",
    "                sa = sentiment_analysis(translation)[0]\n",
    "\n",
    "            if sa['label'] == 'POSITIVE':\n",
    "                json_bcn[i]['reviews_data'][j]['rating'] = sa['score'] * 5\n",
    "            else:\n",
    "                json_bcn[i]['reviews_data'][j]['rating'] = 5 - sa['score'] * 5"
   ]
  },
  {
   "cell_type": "markdown",
   "metadata": {},
   "source": [
    "Remove restaurants with no reviews"
   ]
  },
  {
   "cell_type": "code",
   "execution_count": 24,
   "metadata": {},
   "outputs": [
    {
     "name": "stdout",
     "output_type": "stream",
     "text": [
      "151\n",
      "153\n",
      "223\n"
     ]
    }
   ],
   "source": [
    "clean_json = []\n",
    "for i,restaurant in enumerate(json_bcn):\n",
    "    if len(restaurant['reviews_data']):\n",
    "        clean_json.append(restaurant)\n",
    "    else:\n",
    "        print(i)"
   ]
  },
  {
   "cell_type": "code",
   "execution_count": 25,
   "metadata": {},
   "outputs": [
    {
     "data": {
      "text/plain": [
       "{'ChIJefD4APiipBIRgyI_ff4Qhxc': 1,\n",
       " 'ChIJteBarX6ipBIRRYygisKbcPs': 1,\n",
       " 'ChIJxXT2zueipBIRhT17oqbcnx8': 1,\n",
       " 'ChIJxZljK8mjpBIRAUQgty4vUL0': 1,\n",
       " 'ChIJhRmZ7f2ipBIRs5_ZKx_mJV0': 1,\n",
       " 'ChIJa-LjmfaipBIRfUaQ8IviPnI': 1,\n",
       " 'ChIJQ8ly2viipBIRZANMAFMePb8': 1,\n",
       " 'ChIJp4MZsfiipBIRM7YJu0xCScQ': 1,\n",
       " 'ChIJbUeDbIyipBIRhf2n9OIXpig': 1,\n",
       " 'ChIJo9a8zYWipBIRbExm8o2jDd8': 1,\n",
       " 'ChIJ5UPwoWeipBIRaLUTymgdU2s': 1,\n",
       " 'ChIJ4c9Z4mGipBIREUosG7_sVXg': 1,\n",
       " 'ChIJ08vR2JOipBIRtSoV82KdIjA': 1,\n",
       " 'ChIJyzttxfeipBIRGkElR5G73mQ': 1,\n",
       " 'ChIJL2iZhoqipBIR8yrz7bAzwqg': 1,\n",
       " 'ChIJvfD7cXuipBIRc-6k05FxgWI': 1,\n",
       " 'ChIJd-kDghajpBIR526jrtyGZZA': 1,\n",
       " 'ChIJ6zCmfe2ipBIRgNs_xHC75Ec': 1,\n",
       " 'ChIJxUNniGWYpBIRRLODLxXKAhI': 1,\n",
       " 'ChIJ90QMabGipBIRo2cb3n68X_A': 1,\n",
       " 'ChIJDcIkmQ-YpBIRoLbpQjXxAiI': 1,\n",
       " 'ChIJOWysT6-ipBIRB-PBz2M_lQQ': 1,\n",
       " 'ChIJ6_dLhqujpBIRMs68zrFMqSc': 1,\n",
       " 'ChIJw8oShmyjpBIRTIkEztxmO2Y': 1,\n",
       " 'ChIJnxRQBKyjpBIRKFeCru2-P4I': 1,\n",
       " 'ChIJ2xlMdCKjpBIR33Co6YN0V4I': 1,\n",
       " 'ChIJjZxWjQ-YpBIR_xbBOD9lZ1k': 1,\n",
       " 'ChIJ-_dtdeuipBIRJosW1OKbZl4': 1,\n",
       " 'ChIJJWY_JHCYpBIRIRKPz1kJ9EI': 1,\n",
       " 'ChIJ03TBgvaipBIRAokqDD_fOgU': 1,\n",
       " 'ChIJzyCpuvOipBIR81q13eFJsyw': 1,\n",
       " 'ChIJRxeqK9WipBIR19LdBFuLBjw': 1,\n",
       " 'ChIJJ3ISYYSipBIRZbmuNoUQGao': 1,\n",
       " 'ChIJL_kQlAijpBIRCYCEoSNB1cA': 1,\n",
       " 'ChIJN0yDs42ipBIR5T7Lyi9E29k': 1,\n",
       " 'ChIJrYOJGcOipBIRylhDvEVSSik': 1,\n",
       " 'ChIJl0ZZHxujpBIRN2y9xZrUuRI': 1,\n",
       " 'ChIJvaXrXPqipBIRFkfZO5V1RjI': 1,\n",
       " 'ChIJA7Vlp5iZpBIRo8rMYZedIDo': 1,\n",
       " 'ChIJRfHqz1aYpBIRqVAFnckaCt4': 1,\n",
       " 'ChIJnwSFDWKYpBIR_r0v4CZKVTE': 1,\n",
       " 'ChIJQ5TBMQyYpBIRS_PFjDP8LCM': 1,\n",
       " 'ChIJmVwTco6ipBIRadmxm-Zwick': 1,\n",
       " 'ChIJyUzsdZuipBIR7C8fRKI1-hg': 1,\n",
       " 'ChIJ69NAjGSipBIRdoXVW4t6F24': 1,\n",
       " 'ChIJ6QPv5AejpBIRS7LcJecO_UQ': 1,\n",
       " 'ChIJ0Ulj4g6jpBIRDNNmVg5Hr2E': 1,\n",
       " 'ChIJUelNJlaipBIRwdR_rTZgsDI': 1,\n",
       " 'ChIJla091gKZpBIRKfT7KEr1a9M': 1,\n",
       " 'ChIJMxp5H_6ipBIR-XbZESY3q3c': 1,\n",
       " 'ChIJecv7K4yipBIRs8mIO7ud1vY': 1,\n",
       " 'ChIJrcC3iq2ZpBIRyVqXiw2N8XU': 1,\n",
       " 'ChIJP-OjThWjpBIRPPDMC5BbwVM': 1,\n",
       " 'ChIJn4KYu2KipBIRjPp5PooOO1U': 1,\n",
       " 'ChIJ6XNwB5OipBIRt4y6O-OMYlE': 1,\n",
       " 'ChIJU2yMmZmipBIRincP1doW8ak': 1,\n",
       " 'ChIJP3ifN5CipBIRlcRYEvXR48Y': 1,\n",
       " 'ChIJGSe0PfeipBIR-sKI4VVSrSI': 1,\n",
       " 'ChIJ5c4QTsGipBIRaakXWVSPrSY': 1,\n",
       " 'ChIJR-1GYP6ipBIRwZGGRxgq1e0': 1,\n",
       " 'ChIJ9UOKRHaYpBIRCFeXbtKjSU0': 1,\n",
       " 'ChIJfYU2UqCipBIR8nMtzXmXsPI': 1,\n",
       " 'ChIJyb_RqnujpBIRY35PX6Cs4pY': 1,\n",
       " 'ChIJN-3jDf6ipBIREgvbwVTBeAc': 1,\n",
       " 'ChIJ06Abq5OipBIRAAbiw3cStt8': 1,\n",
       " 'ChIJzemk9FyYpBIRpB1A5sQYspU': 1,\n",
       " 'ChIJk__0muqipBIRacIQTkTRgGU': 1,\n",
       " 'ChIJQ10fw2qjpBIRQ-EWd74vZgk': 1,\n",
       " 'ChIJRwc0tfSYpBIROH5HbqjJjM8': 1,\n",
       " 'ChIJeWHXl--jpBIRbk4k46f6vLk': 1,\n",
       " 'ChIJdWk_Q_GYpBIRM_uLVHKHuZA': 1,\n",
       " 'ChIJ4ecss_CipBIRzAR_ag45hM8': 1,\n",
       " 'ChIJwaqxIuyipBIR_X_o_CfX_VE': 1,\n",
       " 'ChIJi_EUXIaYpBIRIfaYbRLblfs': 1,\n",
       " 'ChIJMfzM72WYpBIRXeSAn27lIhk': 1,\n",
       " 'ChIJ5dT1WhujpBIROG-CSYO-xnA': 1,\n",
       " 'ChIJBTfBbwCjpBIRWclY6-1LVTg': 1,\n",
       " 'ChIJKSdKM7-YpBIRN8gyNni2_Pg': 1,\n",
       " 'ChIJ6zCmfe2ipBIRHC8FSUmHIEg': 1,\n",
       " 'ChIJqdpHxP6ipBIRbGTndrM3uLA': 1,\n",
       " 'ChIJE9bvg2SipBIR4Km_kuEEaWk': 1,\n",
       " 'ChIJ0ZSONVejpBIRTdN-2LSRX08': 1,\n",
       " 'ChIJOz6kWZGipBIR-dPpNFs_4LY': 1,\n",
       " 'ChIJuwsi6-2ipBIRi8zh5nFfS_Q': 1,\n",
       " 'ChIJOfXakY2ipBIRjXgtCVc1Rn8': 1,\n",
       " 'ChIJlcNl9jyjpBIRU02pgRHAJNk': 1,\n",
       " 'ChIJ4ayjc2eipBIRlRuQyc20ZV0': 1,\n",
       " 'ChIJw9YxdpuipBIRQiM0bGypfqI': 1,\n",
       " 'ChIJy5lJ9MOipBIRvEnxsX82gj4': 1,\n",
       " 'ChIJf8nit1-ipBIRzvX6TvflY5E': 1,\n",
       " 'ChIJ2yF9jhuYpBIRnbipQc4j7uY': 1,\n",
       " 'ChIJN2nJ8r6YpBIRNPevFDuvV44': 1,\n",
       " 'ChIJFzC7phyjpBIRWB7OXQHJoHY': 1,\n",
       " 'ChIJXReUNOGipBIRdz0OlZXn7yc': 1,\n",
       " 'ChIJU4u6ZoSipBIRweDTPlRgN4A': 1,\n",
       " 'ChIJr10-LFmipBIR5ymKpjams6o': 1,\n",
       " 'ChIJn-a4VzeYpBIRg3LR7xFlZfQ': 1,\n",
       " 'ChIJ0X_WpuyipBIR2tX-uTdO4_4': 1,\n",
       " 'ChIJ-fVkbVaipBIRygvueZ4Pp-M': 1,\n",
       " 'ChIJKyMr3q-ipBIR_fKaRHCYkMg': 1,\n",
       " 'ChIJL7osLPmipBIRNj1C9Ji3NTw': 1,\n",
       " 'ChIJN4zPLvSipBIRnANNEEwB15Q': 1,\n",
       " 'ChIJ627xK2WipBIR6zAxuUmOD_0': 1,\n",
       " 'ChIJ_YNS35CipBIRlVeEwBuv1mE': 1,\n",
       " 'ChIJiexhIFaipBIROkY5Gw0Jxzw': 1,\n",
       " 'ChIJ227r7P-ipBIR9BvauGT0_Ak': 1,\n",
       " 'ChIJI26GMnaYpBIRmQ2areI5AJw': 1,\n",
       " 'ChIJ55A0-Z6ipBIREu64nZlr05k': 1,\n",
       " 'ChIJOcx713aZpBIRq9cTlWZVn1A': 1,\n",
       " 'ChIJPVTlluyipBIRa63D-AvISig': 1,\n",
       " 'ChIJJeFDZS6YpBIRpS3vMg9Vr2A': 1,\n",
       " 'ChIJwe1XAfKipBIRKVz8iQ_o65w': 1,\n",
       " 'ChIJhT-Iaf6ipBIRh8UGpqX21Jo': 1,\n",
       " 'ChIJX43bwemjpBIRCVJJP9StWE8': 1,\n",
       " 'ChIJkbkIaY6ipBIR1Qd0pGMGeug': 1,\n",
       " 'ChIJv2TwNSujpBIR9Z1x1TijIK8': 1,\n",
       " 'ChIJPeQ5o--ipBIRVoC8MNIeuBs': 1,\n",
       " 'ChIJf4l7rVeipBIRd88Z241wfs4': 1,\n",
       " 'ChIJBUVczcGYpBIRrXQ2JVyDnUs': 1,\n",
       " 'ChIJaS6zwH-ipBIRz1gh2_q91sc': 1,\n",
       " 'ChIJ3-jQomqjpBIRSFLY1lYrG5Y': 1,\n",
       " 'ChIJzdpR9v6ipBIRYJcC0NR6sLE': 1,\n",
       " 'ChIJr7UMNvyipBIRjwVpgkiuzvk': 1,\n",
       " 'ChIJX_Q00PiipBIRh1yciXxWdzk': 1,\n",
       " 'ChIJf-Sjp-uipBIRS3kVFafnBG8': 1,\n",
       " 'ChIJ6eLgUvmipBIRXtm29Gzx9s8': 1,\n",
       " 'ChIJxbseWr2YpBIRGzkOyekSffI': 1,\n",
       " 'ChIJI7wdGZOipBIRh_tZlvgzJaA': 1,\n",
       " 'ChIJhUtnFEajpBIR2K633TDXfRU': 1,\n",
       " 'ChIJEyRlahqYpBIR-fgQGRnIbt0': 1,\n",
       " 'ChIJS5NfUnmipBIRGBIvZ9cGHLU': 1,\n",
       " 'ChIJ2WyB1puipBIRCruFJK-LPlM': 1,\n",
       " 'ChIJ10wuF72ipBIRh_KztS3VaB8': 1,\n",
       " 'ChIJN34PrLOipBIRuRrbyRBDU_A': 1,\n",
       " 'ChIJnR4cBu-ipBIRjUrf2hJAqeQ': 1,\n",
       " 'ChIJMyXxamyYpBIR545nz4aSrbc': 1,\n",
       " 'ChIJTanMhJyipBIRkuDC4Sx_Tik': 1,\n",
       " 'ChIJn8y8CvaipBIRN8pcIOZvzqo': 1,\n",
       " 'ChIJXZhtxZaipBIRpguVxDwRohg': 1,\n",
       " 'ChIJm1lClpCipBIRGBC-1SDJ85k': 1,\n",
       " 'ChIJCeXlq92ipBIRpdK__54n0FI': 1,\n",
       " 'ChIJzWHePVGjpBIRWRKVJOpltgQ': 1,\n",
       " 'ChIJfe3FCFaipBIRPzt-nB7gc14': 1,\n",
       " 'ChIJq4cO07OipBIRS5h6cBIPRng': 1,\n",
       " 'ChIJyUFE-_mipBIRCrChwYz8lx0': 1,\n",
       " 'ChIJTSzGu4WipBIRkznre9Zwis0': 1,\n",
       " 'ChIJV5csEXaYpBIROQ33njEmjWQ': 1,\n",
       " 'ChIJjX8Y_b6ipBIR-BkrX5GG5G0': 1,\n",
       " 'ChIJI96t3faipBIRONCoAyrVBLY': 1,\n",
       " 'ChIJOx8QPKqjpBIR1u8Z5hq1qcg': 1,\n",
       " 'ChIJL0_Nt66jpBIRt55zTJ7CpZk': 1,\n",
       " 'ChIJRSrz8FeipBIR9SHH2fEFv4U': 1,\n",
       " 'ChIJEX8i0BqYpBIRUpgv70_z_yg': 1,\n",
       " 'ChIJn2RJ2XyipBIRyWyAwe3FBg0': 1,\n",
       " 'ChIJfyTsR_-ipBIRmA7zhFU4ZDQ': 1,\n",
       " 'ChIJJQCvXMOipBIRoK4Av85WDV8': 1,\n",
       " 'ChIJv6nmFvqipBIRhK65nVKPSlw': 1,\n",
       " 'ChIJ3XUCr0K5Z0ARbKq1CqAKgJQ': 1,\n",
       " 'ChIJPfDI3bqipBIRjgWxclrllwE': 1,\n",
       " 'ChIJxypsavOipBIRxmtwKh6UYaw': 1,\n",
       " 'ChIJBbPkSnmipBIRGZkdtGI7hiE': 1,\n",
       " 'ChIJKb2W_FiipBIR3UdM8obKvkk': 1,\n",
       " 'ChIJiZq-5PyipBIRfK3u0YJJQHE': 1,\n",
       " 'ChIJGQi2tP6ipBIR3iQXOuNAolQ': 1,\n",
       " 'ChIJb7gUzfmipBIRIoiMb8GScM0': 1,\n",
       " 'ChIJ930OtWSYpBIRwmgfp4-zcIA': 1,\n",
       " 'ChIJWUPHwCOjpBIRbRjlGR2Xa6M': 1,\n",
       " 'ChIJSWHQQGWipBIRY1dsnTzy2nI': 1,\n",
       " 'ChIJj2n5iv6ipBIRcnNc4SQ3hSU': 1,\n",
       " 'ChIJu7sq8ZKipBIRbP2Vki_kScw': 1,\n",
       " 'ChIJNc7xxZ6ipBIRnrVCrmxgS4g': 1,\n",
       " 'ChIJgYRzxgijpBIRv2cepysaa6Y': 1,\n",
       " 'ChIJh01b3aujpBIRAxWL8QFNnjE': 1,\n",
       " 'ChIJU9BEzlCjpBIRruyM3-bXThk': 1,\n",
       " 'ChIJFyeCRMOipBIR5-Pzg0mWoRs': 1,\n",
       " 'ChIJ_3GGzg6jpBIRbf92pkxsCr0': 1,\n",
       " 'ChIJmQ6ZKtuipBIRS7-_Jp6l7Zo': 1,\n",
       " 'ChIJl8AvStqipBIRZrurM3G8DS0': 1,\n",
       " 'ChIJgXhRA5iipBIRlYIbAhFwH-c': 1,\n",
       " 'ChIJPxzuKV-ipBIRmZegbErtEiw': 1,\n",
       " 'ChIJX0su9FiipBIRrb80hCFA2WA': 1,\n",
       " 'ChIJt9ceoEOjpBIRnWy7dYau7e0': 1,\n",
       " 'ChIJH1MVbvSipBIRl_BB017gBB4': 1,\n",
       " 'ChIJl9XATxujpBIR_DUxGm51nDA': 1,\n",
       " 'ChIJS1zxcFyipBIRXR5s-WR6BJc': 1,\n",
       " 'ChIJ8TMSh46ipBIRVmVx_17vwLE': 1,\n",
       " 'ChIJLasTyh6jpBIR2tzirBbceuY': 1,\n",
       " 'ChIJN7llwqKYpBIRt_gV3-hsfqk': 1,\n",
       " 'ChIJoW3KxVeipBIRWyvQI76z4cA': 1,\n",
       " 'ChIJQyU0L2iipBIRBMPf4ZwbqiE': 1,\n",
       " 'ChIJawsMD42ipBIRO1xXCzZZkFQ': 1,\n",
       " 'ChIJoQ9C8kCjpBIRZcWfN97tZdI': 1,\n",
       " 'ChIJM5FFbvKipBIRdWugDh577Ao': 1,\n",
       " 'ChIJWXpb8PeipBIR9qHIBx1PV4U': 1,\n",
       " 'ChIJz3xmwv2ipBIREX5hepxtl7Q': 1,\n",
       " 'ChIJw87nG_6ipBIR9UqpWXx-YJs': 1,\n",
       " 'ChIJYY-2yo6jpBIRDfKAX2glqbU': 1,\n",
       " 'ChIJa2rxw_uipBIRqHLwI_tNaKk': 1,\n",
       " 'ChIJP7ahAOiipBIRASawEZZOOeo': 1,\n",
       " 'ChIJC1mTxOmipBIRVodYqFhQmM8': 1,\n",
       " 'ChIJbZRE0QijpBIRhTBMlgGI3PY': 1,\n",
       " 'ChIJudqNP-aipBIRJL-xaciw6xw': 1,\n",
       " 'ChIJi9-FkaGipBIRDG7m_fC-R4g': 1,\n",
       " 'ChIJk4-Fr9CipBIR3P4tAP689xw': 1,\n",
       " 'ChIJFbGtt1mipBIRuVooD90SoxE': 1,\n",
       " 'ChIJlWT-OJCipBIRU83j8sREy3o': 1,\n",
       " 'ChIJu7KsR4ujpBIRvIJ8hBwCTUc': 1,\n",
       " 'ChIJJVDwhMKZpBIR3amW-dBWzkg': 1,\n",
       " 'ChIJR6wZFXmipBIRioOkZKPrly4': 1,\n",
       " 'ChIJY6I79l6ipBIR7uHYEGo4YmQ': 1,\n",
       " 'ChIJl7hQSJSipBIRk7b0Z4WCgwE': 1,\n",
       " 'ChIJpanTZ-2ipBIRXWvGohSLN_4': 1,\n",
       " 'ChIJJ-f2N_GipBIRsCpL-ijBmUA': 1,\n",
       " 'ChIJoU5LpmKipBIR89cz26qhHHA': 1,\n",
       " 'ChIJVeh6ik6jpBIRuZGKMN-hf5c': 1,\n",
       " 'ChIJeV2ZLqOZpBIRJI4WzjEyGek': 1,\n",
       " 'ChIJA1wF9kOjpBIRsbmvXmHuq50': 1,\n",
       " 'ChIJK6tDZYqipBIRrxcH_-0JpqE': 1,\n",
       " 'ChIJiQfqu_6ipBIRMIL1GKXlOmI': 1,\n",
       " 'ChIJqQI7SqijpBIRcCr6G6MHPoM': 1,\n",
       " 'ChIJzeQs2JqipBIREQ4pkufEXzM': 1,\n",
       " 'ChIJsfd9xN-ipBIRcsHHXwZMFBA': 1,\n",
       " 'ChIJgUwpv5iipBIRd0JfuUV30HY': 1,\n",
       " 'ChIJXVTwYqi-Z0ARrKEFWbFKMLQ': 1,\n",
       " 'ChIJr05z0uyipBIR2P_c0PsSW2g': 1,\n",
       " 'ChIJWe4si_aipBIRgzhJFj5tVq0': 1,\n",
       " 'ChIJb-E-RfmipBIRmDyFS5ND__8': 1,\n",
       " 'ChIJbUMbTYOipBIRjsNStvsVNS0': 1,\n",
       " 'ChIJ5zC4pYyYpBIRvrtrSI9Kgc4': 1,\n",
       " 'ChIJT0u86VeipBIRRDlB5URkGfQ': 1,\n",
       " 'ChIJAweFnpSipBIRBbwmnDuS5mA': 1,\n",
       " 'ChIJjXmkmfOipBIRMSUAplH7kU4': 1,\n",
       " 'ChIJH8gKMViipBIR-Naz1zh9Hbw': 1,\n",
       " 'ChIJI-HKOyejpBIRLkPOl415Wyg': 1,\n",
       " 'ChIJefmo1-2ipBIRBr5cUyZ1Qt0': 1,\n",
       " 'ChIJZ9PCF5yipBIR4UARKasX5kE': 1}"
      ]
     },
     "execution_count": 25,
     "metadata": {},
     "output_type": "execute_result"
    }
   ],
   "source": [
    "dict_names = {}\n",
    "dict_place_id = {}\n",
    "for restaurant in clean_json:\n",
    "    if restaurant['title'] not in dict_names:\n",
    "        dict_names[restaurant['title']] = 1\n",
    "    else:\n",
    "        dict_names[restaurant['title']] += 1\n",
    "    \n",
    "    if restaurant['place_id'] not in dict_place_id:\n",
    "        dict_place_id[restaurant['place_id']] = 1\n",
    "    else:\n",
    "        dict_place_id[restaurant['place_id']] += 1\n",
    "            \n",
    "{k: v for k, v in sorted(dict_place_id.items(), key=lambda item: -item[1])}"
   ]
  },
  {
   "cell_type": "markdown",
   "metadata": {},
   "source": [
    "## Save the data"
   ]
  },
  {
   "cell_type": "code",
   "execution_count": 26,
   "metadata": {},
   "outputs": [],
   "source": [
    "f_data = open(\"Data/data.json\", \"w\")\n",
    "json.dump(clean_json, f_data)\n",
    "f_data.close()"
   ]
  },
  {
   "cell_type": "markdown",
   "metadata": {},
   "source": [
    "## Plot the restaurants on a map"
   ]
  },
  {
   "cell_type": "code",
   "execution_count": 19,
   "metadata": {},
   "outputs": [
    {
     "data": {
      "text/plain": [
       "(2.0869101, 2.2183364, 41.356697, 41.42046)"
      ]
     },
     "execution_count": 19,
     "metadata": {},
     "output_type": "execute_result"
    }
   ],
   "source": [
    "BBox = (df.longitude.min(), df.longitude.max(), df.latitude.min(), df.latitude.max())\n",
    "BBox"
   ]
  },
  {
   "cell_type": "code",
   "execution_count": 20,
   "metadata": {},
   "outputs": [
    {
     "ename": "NameError",
     "evalue": "name 'StaticMap' is not defined",
     "output_type": "error",
     "traceback": [
      "\u001b[0;31m---------------------------------------------------------------------------\u001b[0m",
      "\u001b[0;31mNameError\u001b[0m                                 Traceback (most recent call last)",
      "\u001b[0;32m<ipython-input-20-d2b97c529df9>\u001b[0m in \u001b[0;36m<module>\u001b[0;34m\u001b[0m\n\u001b[0;32m----> 1\u001b[0;31m \u001b[0mmap\u001b[0m \u001b[0;34m=\u001b[0m \u001b[0mStaticMap\u001b[0m\u001b[0;34m(\u001b[0m\u001b[0;36m750\u001b[0m\u001b[0;34m,\u001b[0m \u001b[0;36m750\u001b[0m\u001b[0;34m)\u001b[0m\u001b[0;34m\u001b[0m\u001b[0;34m\u001b[0m\u001b[0m\n\u001b[0m\u001b[1;32m      2\u001b[0m \u001b[0;32mfor\u001b[0m \u001b[0midx\u001b[0m\u001b[0;34m,\u001b[0m \u001b[0mrow\u001b[0m \u001b[0;32min\u001b[0m \u001b[0mdf\u001b[0m\u001b[0;34m.\u001b[0m\u001b[0miterrows\u001b[0m\u001b[0;34m(\u001b[0m\u001b[0;34m)\u001b[0m\u001b[0;34m:\u001b[0m\u001b[0;34m\u001b[0m\u001b[0;34m\u001b[0m\u001b[0m\n\u001b[1;32m      3\u001b[0m     \u001b[0mmarker\u001b[0m \u001b[0;34m=\u001b[0m \u001b[0mCircleMarker\u001b[0m\u001b[0;34m(\u001b[0m\u001b[0;34m[\u001b[0m\u001b[0mrow\u001b[0m\u001b[0;34m[\u001b[0m\u001b[0;34m\"longitude\"\u001b[0m\u001b[0;34m]\u001b[0m\u001b[0;34m,\u001b[0m \u001b[0mrow\u001b[0m\u001b[0;34m[\u001b[0m\u001b[0;34m\"latitude\"\u001b[0m\u001b[0;34m]\u001b[0m\u001b[0;34m]\u001b[0m\u001b[0;34m,\u001b[0m \u001b[0;34m'red'\u001b[0m\u001b[0;34m,\u001b[0m \u001b[0;36m4\u001b[0m\u001b[0;34m)\u001b[0m\u001b[0;34m\u001b[0m\u001b[0;34m\u001b[0m\u001b[0m\n\u001b[1;32m      4\u001b[0m     \u001b[0mmarker_outline\u001b[0m \u001b[0;34m=\u001b[0m \u001b[0mCircleMarker\u001b[0m\u001b[0;34m(\u001b[0m\u001b[0;34m[\u001b[0m\u001b[0mrow\u001b[0m\u001b[0;34m[\u001b[0m\u001b[0;34m\"longitude\"\u001b[0m\u001b[0;34m]\u001b[0m\u001b[0;34m,\u001b[0m \u001b[0mrow\u001b[0m\u001b[0;34m[\u001b[0m\u001b[0;34m\"latitude\"\u001b[0m\u001b[0;34m]\u001b[0m\u001b[0;34m]\u001b[0m\u001b[0;34m,\u001b[0m \u001b[0;34m'black'\u001b[0m\u001b[0;34m,\u001b[0m \u001b[0;36m8\u001b[0m\u001b[0;34m)\u001b[0m\u001b[0;34m\u001b[0m\u001b[0;34m\u001b[0m\u001b[0m\n\u001b[1;32m      5\u001b[0m     \u001b[0mmap\u001b[0m\u001b[0;34m.\u001b[0m\u001b[0madd_marker\u001b[0m\u001b[0;34m(\u001b[0m\u001b[0mmarker_outline\u001b[0m\u001b[0;34m)\u001b[0m\u001b[0;34m\u001b[0m\u001b[0;34m\u001b[0m\u001b[0m\n",
      "\u001b[0;31mNameError\u001b[0m: name 'StaticMap' is not defined"
     ]
    }
   ],
   "source": [
    "map = StaticMap(750, 750)\n",
    "for idx, row in df.iterrows():\n",
    "    marker = CircleMarker([row[\"longitude\"], row[\"latitude\"]], 'red', 4)\n",
    "    marker_outline = CircleMarker([row[\"longitude\"], row[\"latitude\"]], 'black', 8)\n",
    "    map.add_marker(marker_outline)\n",
    "    map.add_marker(marker)\n",
    "image = map.render()\n",
    "image.save(\"restaurant_map.png\")"
   ]
  },
  {
   "cell_type": "code",
   "execution_count": null,
   "metadata": {},
   "outputs": [],
   "source": [
    "image"
   ]
  }
 ],
 "metadata": {
  "kernelspec": {
   "display_name": "Python 3 (ipykernel)",
   "language": "python",
   "name": "python3"
  },
  "language_info": {
   "codemirror_mode": {
    "name": "ipython",
    "version": 3
   },
   "file_extension": ".py",
   "mimetype": "text/x-python",
   "name": "python",
   "nbconvert_exporter": "python",
   "pygments_lexer": "ipython3",
   "version": "3.8.10"
  }
 },
 "nbformat": 4,
 "nbformat_minor": 2
}
